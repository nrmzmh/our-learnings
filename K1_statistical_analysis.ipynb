{
 "cells": [
  {
   "cell_type": "markdown",
   "metadata": {},
   "source": [
    "# Statistical Analysis\n",
    "\n",
    "## Awareness\n",
    "1. Awareness of advanced statistical concepts and applications.\n",
    "2. Understanding advanced statistical concepts, methods, and applications.\n",
    "\n",
    "***\n",
    "\n",
    "### Generalized Linear Models (GLM)\n",
    "\n",
    "Three components of the GLM:\n",
    "1. **Random Component**: response variable, the $ Y $ component\n",
    "2. **Systematic Component**: explanatory variables, $ x_{1} $, $ x_{2} $, ..., $ x_{k} $\n",
    "3. **Link Function**: the link between the random and the systematic components, $ g(\\mu) $\n",
    "\n",
    "\n",
    "Following are the examples of GLMs:\n",
    "\n",
    "#### 1. Simple Linear Regression (SLR)\n",
    "\n",
    "$$ \\mu_{i} = \\beta_{0} + \\beta x_{i} $$\n",
    "\n",
    "1. **Random component**: the normal distribution of $ Y $ with mean $ \\mu $ and constant variance $ \\sigma^{2} $\n",
    "2. **Systematic Component**: linear in the parameters $ \\beta_{0} + \\beta x_{i} $\n",
    "3. **Link Function**: the identity link $ \\eta = g(E(Y)) = E(Y) $ is used\n",
    "\n",
    "\n",
    "#### 2. Binary Logistic Regression (Logit)\n",
    "\n",
    "$$ logit(\\pi_{i}) = log (\\frac{\\pi_{i}}{1- \\pi_{i}}) =\\beta_{0} + \\beta x_{i} $$\n",
    "\n",
    "1. **Random component**: the binomial distribution with a single trial and success probability $ E(Y) = \\pi $\n",
    "2. **Systematic Component**: linear in the parameters $ x $\n",
    "3. **Link Function**: the log-odds or logit link $ \\eta = g(\\pi) = log (\\frac{\\pi_{i}}{1- \\pi_{i}}) $ is used\n",
    "\n",
    "\n",
    "### 3. Poisson Regression\n",
    "\n",
    "$$ \\log \\lambda_i=\\beta_0+\\beta x_i $$\n",
    "\n",
    "1. **Random component**: the poisson distribution with mean $ \\mu $\n",
    "2. **Systematic Component**: linear in the parameters $ x $\n",
    "3. **Link Function**: the log link is used\n",
    "\n",
    "\n",
    "Source: [Introduction to GLMs](https://online.stat.psu.edu/stat504/lesson/6/6.1)"
   ]
  },
  {
   "cell_type": "code",
   "execution_count": null,
   "metadata": {},
   "outputs": [],
   "source": []
  },
  {
   "cell_type": "markdown",
   "metadata": {},
   "source": [
    "## Knowledge\n",
    "1. Apply advanced statistical  methods effectively.\n",
    "2. Understand advanced statistical methods. methods.\n",
    "3. Able to use statistical software or packages with advanced statistical techniques."
   ]
  },
  {
   "cell_type": "markdown",
   "metadata": {},
   "source": []
  }
 ],
 "metadata": {
  "language_info": {
   "name": "python"
  }
 },
 "nbformat": 4,
 "nbformat_minor": 2
}
